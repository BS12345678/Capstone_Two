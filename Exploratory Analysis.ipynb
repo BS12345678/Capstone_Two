{
 "cells": [
  {
   "cell_type": "code",
   "execution_count": null,
   "metadata": {},
   "outputs": [],
   "source": [
    "# Calculating the difference between first_review and last_review - call it Age, change it into string and strip the 'days' part.\n",
    "# change it into numeric values  - call it 'Age_days'\n",
    "abnb_2['Age'] = (abnb_2['last_review'] - abnb_2['first_review']).astype('string')\n",
    "abnb_2['Age'] = abnb_2['Age'].str.split(pat=' ', n=0, expand=True)\n",
    "abnb_2['Age'] = pd.to_numeric(abnb_2['Age'],errors='coerce')"
   ]
  },
  {
   "cell_type": "code",
   "execution_count": null,
   "metadata": {},
   "outputs": [],
   "source": [
    "# The prices may also depend on how the local median income levels around the area. Hence, a column was created to add median income\n",
    "# levels based on the 'neighbourhood_group_cleansed' feature.\n",
    "val = []\n",
    "for row in abnb_5['neighbourhood_group_cleansed']:\n",
    "    if row == 'Manhattan':\n",
    "        val.append(50985)\n",
    "    elif row == 'Brooklyn':\n",
    "        val.append(31406)\n",
    "    elif row == 'Queens':\n",
    "        val.append(31992)\n",
    "    elif row == 'Bronx':\n",
    "        val.append(22232)\n",
    "    elif row == 'Staten Island':\n",
    "        val.append(39777)\n",
    "\n",
    "abnb_5['income'] = val"
   ]
  },
  {
   "cell_type": "markdown",
   "metadata": {},
   "source": [
    "Following will focus on creating columns of specific location (e.g. central_park) longitude and latitude. These columns will be concatenated with the main dataframe to calculate the distance between listing and specific location. (this can be done for several other landmarks). However, not sure how many landmarks and points of interest should be considered."
   ]
  },
  {
   "cell_type": "code",
   "execution_count": null,
   "metadata": {},
   "outputs": [],
   "source": [
    "abnb_extra =  abnb_5.apply(lambda x: [40.7812, 73.9665], axis=1, result_type = 'expand')\n",
    "abnb_extra.columns = ['central_park_lati', 'central_park_longi']"
   ]
  },
  {
   "cell_type": "code",
   "execution_count": null,
   "metadata": {},
   "outputs": [],
   "source": [
    "# concatenating with main data\n",
    "abnb_6 = pd.concat([abnb_extra, abnb_5],axis=1)"
   ]
  },
  {
   "cell_type": "code",
   "execution_count": null,
   "metadata": {},
   "outputs": [],
   "source": [
    "abnb_3.groupby('room_type').mean()"
   ]
  },
  {
   "cell_type": "code",
   "execution_count": null,
   "metadata": {},
   "outputs": [],
   "source": [
    "Neightborhood_group as well as 'room_type' have an impact on price differences. There's a slight difference in price with 'instant_bookable'. Host_response_time shows an interesting association with price, for 'within a day' response the price is high and if it's 'few days or more', price reduces. However, if 'within few hours or within an hour the price is less than them. Whether the host_is_superhost or not doesn't show much difference in price, however, for a superhost, the number of reviews are high."
   ]
  }
 ],
 "metadata": {
  "kernelspec": {
   "display_name": "Python 3",
   "language": "python",
   "name": "python3"
  },
  "language_info": {
   "codemirror_mode": {
    "name": "ipython",
    "version": 3
   },
   "file_extension": ".py",
   "mimetype": "text/x-python",
   "name": "python",
   "nbconvert_exporter": "python",
   "pygments_lexer": "ipython3",
   "version": "3.8.5"
  }
 },
 "nbformat": 4,
 "nbformat_minor": 4
}

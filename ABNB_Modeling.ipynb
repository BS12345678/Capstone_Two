{
 "cells": [
  {
   "cell_type": "code",
   "execution_count": 1,
   "metadata": {},
   "outputs": [],
   "source": [
    "\n",
    "#Import pandas, matplotlib.pyplot, and seaborn in the correct lines below\n",
    "import pandas as pd\n",
    "import matplotlib.pyplot as plt\n",
    "import seaborn as sns\n",
    "import os\n",
    "import datetime as dt\n",
    "from matplotlib.pyplot import figure\n",
    "import numpy as np\n",
    "from sklearn.model_selection import train_test_split, cross_validate, GridSearchCV, learning_curve\n",
    "from sklearn.preprocessing import StandardScaler, MinMaxScaler\n",
    "from sklearn.dummy import DummyRegressor\n",
    "from sklearn.linear_model import LinearRegression\n",
    "from sklearn.ensemble import RandomForestRegressor\n",
    "from sklearn.metrics import r2_score, mean_squared_error, mean_absolute_error\n",
    "from sklearn.feature_selection import SelectKBest, f_regression"
   ]
  },
  {
   "cell_type": "code",
   "execution_count": 2,
   "metadata": {},
   "outputs": [],
   "source": [
    "abnb_6 = pd.read_csv('abnb_6_ForModeling.csv')"
   ]
  },
  {
   "cell_type": "code",
   "execution_count": 3,
   "metadata": {},
   "outputs": [
    {
     "data": {
      "text/plain": [
       "Index(['Unnamed: 0', 'Listing #', 'host_is_superhost', 'accommodates',\n",
       "       'bedrooms', 'bathrooms_number', 'beds', 'num_amenities',\n",
       "       'number_of_reviews', 'instant_bookable', 'neighbourhood_group_Bronx',\n",
       "       'neighbourhood_group_Brooklyn', 'neighbourhood_group_Manhattan',\n",
       "       'neighbourhood_group_Queens', 'room_type_Entire home/apt',\n",
       "       'room_type_Hotel room', 'room_type_Private room', 'income', 'price',\n",
       "       'log_price'],\n",
       "      dtype='object')"
      ]
     },
     "execution_count": 3,
     "metadata": {},
     "output_type": "execute_result"
    }
   ],
   "source": [
    "abnb_6.columns"
   ]
  },
  {
   "cell_type": "code",
   "execution_count": 4,
   "metadata": {},
   "outputs": [],
   "source": [
    "abnb_6 = abnb_6.drop('Unnamed: 0', axis=1)"
   ]
  },
  {
   "cell_type": "code",
   "execution_count": 18,
   "metadata": {},
   "outputs": [],
   "source": [
    "X = abnb_6.drop(columns = ['log_price', 'price', 'Listing #', 'income'], axis=1)\n",
    "y = abnb_6['log_price']"
   ]
  },
  {
   "cell_type": "code",
   "execution_count": 19,
   "metadata": {},
   "outputs": [],
   "source": [
    "X_train, X_test, y_train, y_test = train_test_split(X, y, test_size=0.25, random_state=19)"
   ]
  },
  {
   "cell_type": "code",
   "execution_count": 20,
   "metadata": {},
   "outputs": [
    {
     "data": {
      "text/html": [
       "<div>\n",
       "<style scoped>\n",
       "    .dataframe tbody tr th:only-of-type {\n",
       "        vertical-align: middle;\n",
       "    }\n",
       "\n",
       "    .dataframe tbody tr th {\n",
       "        vertical-align: top;\n",
       "    }\n",
       "\n",
       "    .dataframe thead th {\n",
       "        text-align: right;\n",
       "    }\n",
       "</style>\n",
       "<table border=\"1\" class=\"dataframe\">\n",
       "  <thead>\n",
       "    <tr style=\"text-align: right;\">\n",
       "      <th></th>\n",
       "      <th>host_is_superhost</th>\n",
       "      <th>accommodates</th>\n",
       "      <th>bedrooms</th>\n",
       "      <th>bathrooms_number</th>\n",
       "      <th>beds</th>\n",
       "      <th>num_amenities</th>\n",
       "      <th>number_of_reviews</th>\n",
       "      <th>instant_bookable</th>\n",
       "      <th>neighbourhood_group_Bronx</th>\n",
       "      <th>neighbourhood_group_Brooklyn</th>\n",
       "      <th>neighbourhood_group_Manhattan</th>\n",
       "      <th>neighbourhood_group_Queens</th>\n",
       "      <th>room_type_Entire home/apt</th>\n",
       "      <th>room_type_Hotel room</th>\n",
       "      <th>room_type_Private room</th>\n",
       "    </tr>\n",
       "  </thead>\n",
       "  <tbody>\n",
       "    <tr>\n",
       "      <th>1367</th>\n",
       "      <td>0</td>\n",
       "      <td>2</td>\n",
       "      <td>1.0</td>\n",
       "      <td>1.0</td>\n",
       "      <td>1.0</td>\n",
       "      <td>17</td>\n",
       "      <td>1</td>\n",
       "      <td>0</td>\n",
       "      <td>0</td>\n",
       "      <td>1</td>\n",
       "      <td>0</td>\n",
       "      <td>0</td>\n",
       "      <td>1</td>\n",
       "      <td>0</td>\n",
       "      <td>0</td>\n",
       "    </tr>\n",
       "    <tr>\n",
       "      <th>30755</th>\n",
       "      <td>0</td>\n",
       "      <td>3</td>\n",
       "      <td>2.0</td>\n",
       "      <td>2.0</td>\n",
       "      <td>1.0</td>\n",
       "      <td>15</td>\n",
       "      <td>0</td>\n",
       "      <td>1</td>\n",
       "      <td>0</td>\n",
       "      <td>0</td>\n",
       "      <td>1</td>\n",
       "      <td>0</td>\n",
       "      <td>1</td>\n",
       "      <td>0</td>\n",
       "      <td>0</td>\n",
       "    </tr>\n",
       "    <tr>\n",
       "      <th>31894</th>\n",
       "      <td>0</td>\n",
       "      <td>3</td>\n",
       "      <td>1.0</td>\n",
       "      <td>1.0</td>\n",
       "      <td>1.0</td>\n",
       "      <td>27</td>\n",
       "      <td>0</td>\n",
       "      <td>1</td>\n",
       "      <td>0</td>\n",
       "      <td>0</td>\n",
       "      <td>1</td>\n",
       "      <td>0</td>\n",
       "      <td>1</td>\n",
       "      <td>0</td>\n",
       "      <td>0</td>\n",
       "    </tr>\n",
       "    <tr>\n",
       "      <th>27540</th>\n",
       "      <td>0</td>\n",
       "      <td>3</td>\n",
       "      <td>1.0</td>\n",
       "      <td>1.0</td>\n",
       "      <td>1.0</td>\n",
       "      <td>34</td>\n",
       "      <td>1</td>\n",
       "      <td>1</td>\n",
       "      <td>1</td>\n",
       "      <td>0</td>\n",
       "      <td>0</td>\n",
       "      <td>0</td>\n",
       "      <td>1</td>\n",
       "      <td>0</td>\n",
       "      <td>0</td>\n",
       "    </tr>\n",
       "    <tr>\n",
       "      <th>12073</th>\n",
       "      <td>0</td>\n",
       "      <td>2</td>\n",
       "      <td>1.0</td>\n",
       "      <td>1.0</td>\n",
       "      <td>1.0</td>\n",
       "      <td>20</td>\n",
       "      <td>19</td>\n",
       "      <td>0</td>\n",
       "      <td>0</td>\n",
       "      <td>1</td>\n",
       "      <td>0</td>\n",
       "      <td>0</td>\n",
       "      <td>0</td>\n",
       "      <td>0</td>\n",
       "      <td>1</td>\n",
       "    </tr>\n",
       "  </tbody>\n",
       "</table>\n",
       "</div>"
      ],
      "text/plain": [
       "       host_is_superhost  accommodates  bedrooms  bathrooms_number  beds  \\\n",
       "1367                   0             2       1.0               1.0   1.0   \n",
       "30755                  0             3       2.0               2.0   1.0   \n",
       "31894                  0             3       1.0               1.0   1.0   \n",
       "27540                  0             3       1.0               1.0   1.0   \n",
       "12073                  0             2       1.0               1.0   1.0   \n",
       "\n",
       "       num_amenities  number_of_reviews  instant_bookable  \\\n",
       "1367              17                  1                 0   \n",
       "30755             15                  0                 1   \n",
       "31894             27                  0                 1   \n",
       "27540             34                  1                 1   \n",
       "12073             20                 19                 0   \n",
       "\n",
       "       neighbourhood_group_Bronx  neighbourhood_group_Brooklyn  \\\n",
       "1367                           0                             1   \n",
       "30755                          0                             0   \n",
       "31894                          0                             0   \n",
       "27540                          1                             0   \n",
       "12073                          0                             1   \n",
       "\n",
       "       neighbourhood_group_Manhattan  neighbourhood_group_Queens  \\\n",
       "1367                               0                           0   \n",
       "30755                              1                           0   \n",
       "31894                              1                           0   \n",
       "27540                              0                           0   \n",
       "12073                              0                           0   \n",
       "\n",
       "       room_type_Entire home/apt  room_type_Hotel room  room_type_Private room  \n",
       "1367                           1                     0                       0  \n",
       "30755                          1                     0                       0  \n",
       "31894                          1                     0                       0  \n",
       "27540                          1                     0                       0  \n",
       "12073                          0                     0                       1  "
      ]
     },
     "execution_count": 20,
     "metadata": {},
     "output_type": "execute_result"
    }
   ],
   "source": [
    "X_train.head()"
   ]
  },
  {
   "cell_type": "code",
   "execution_count": 21,
   "metadata": {},
   "outputs": [
    {
     "data": {
      "text/plain": [
       "1367     4.787492\n",
       "30755    5.416100\n",
       "31894    5.347108\n",
       "27540    4.820282\n",
       "12073    4.234107\n",
       "Name: log_price, dtype: float64"
      ]
     },
     "execution_count": 21,
     "metadata": {},
     "output_type": "execute_result"
    }
   ],
   "source": [
    "y_train.head()"
   ]
  },
  {
   "cell_type": "code",
   "execution_count": 22,
   "metadata": {},
   "outputs": [
    {
     "name": "stderr",
     "output_type": "stream",
     "text": [
      "C:\\Users\\tnsub\\ANACONDA\\lib\\site-packages\\pandas\\core\\indexing.py:1736: SettingWithCopyWarning: \n",
      "A value is trying to be set on a copy of a slice from a DataFrame.\n",
      "Try using .loc[row_indexer,col_indexer] = value instead\n",
      "\n",
      "See the caveats in the documentation: https://pandas.pydata.org/pandas-docs/stable/user_guide/indexing.html#returning-a-view-versus-a-copy\n",
      "  isetter(loc, value[:, i].tolist())\n",
      "C:\\Users\\tnsub\\ANACONDA\\lib\\site-packages\\pandas\\core\\indexing.py:1736: SettingWithCopyWarning: \n",
      "A value is trying to be set on a copy of a slice from a DataFrame.\n",
      "Try using .loc[row_indexer,col_indexer] = value instead\n",
      "\n",
      "See the caveats in the documentation: https://pandas.pydata.org/pandas-docs/stable/user_guide/indexing.html#returning-a-view-versus-a-copy\n",
      "  isetter(loc, value[:, i].tolist())\n"
     ]
    }
   ],
   "source": [
    "from sklearn.preprocessing import StandardScaler\n",
    "scaler = StandardScaler()\n",
    "X_train.iloc[:, 1:7] = scaler.fit_transform(X_train.iloc[:, 1:7])\n",
    "X_test.iloc[:, 1:7] = scaler.transform(X_test.iloc[:, 1:7])"
   ]
  },
  {
   "cell_type": "code",
   "execution_count": 23,
   "metadata": {},
   "outputs": [
    {
     "data": {
      "text/html": [
       "<div>\n",
       "<style scoped>\n",
       "    .dataframe tbody tr th:only-of-type {\n",
       "        vertical-align: middle;\n",
       "    }\n",
       "\n",
       "    .dataframe tbody tr th {\n",
       "        vertical-align: top;\n",
       "    }\n",
       "\n",
       "    .dataframe thead th {\n",
       "        text-align: right;\n",
       "    }\n",
       "</style>\n",
       "<table border=\"1\" class=\"dataframe\">\n",
       "  <thead>\n",
       "    <tr style=\"text-align: right;\">\n",
       "      <th></th>\n",
       "      <th>host_is_superhost</th>\n",
       "      <th>accommodates</th>\n",
       "      <th>bedrooms</th>\n",
       "      <th>bathrooms_number</th>\n",
       "      <th>beds</th>\n",
       "      <th>num_amenities</th>\n",
       "      <th>number_of_reviews</th>\n",
       "      <th>instant_bookable</th>\n",
       "      <th>neighbourhood_group_Bronx</th>\n",
       "      <th>neighbourhood_group_Brooklyn</th>\n",
       "      <th>neighbourhood_group_Manhattan</th>\n",
       "      <th>neighbourhood_group_Queens</th>\n",
       "      <th>room_type_Entire home/apt</th>\n",
       "      <th>room_type_Hotel room</th>\n",
       "      <th>room_type_Private room</th>\n",
       "    </tr>\n",
       "  </thead>\n",
       "  <tbody>\n",
       "    <tr>\n",
       "      <th>11191</th>\n",
       "      <td>1</td>\n",
       "      <td>-0.425540</td>\n",
       "      <td>-0.232745</td>\n",
       "      <td>-0.348645</td>\n",
       "      <td>-0.474956</td>\n",
       "      <td>0.014963</td>\n",
       "      <td>1.213281</td>\n",
       "      <td>1</td>\n",
       "      <td>0</td>\n",
       "      <td>0</td>\n",
       "      <td>0</td>\n",
       "      <td>1</td>\n",
       "      <td>0</td>\n",
       "      <td>0</td>\n",
       "      <td>1</td>\n",
       "    </tr>\n",
       "    <tr>\n",
       "      <th>12643</th>\n",
       "      <td>1</td>\n",
       "      <td>0.691296</td>\n",
       "      <td>1.090220</td>\n",
       "      <td>-0.348645</td>\n",
       "      <td>1.371645</td>\n",
       "      <td>0.950609</td>\n",
       "      <td>1.588203</td>\n",
       "      <td>0</td>\n",
       "      <td>0</td>\n",
       "      <td>0</td>\n",
       "      <td>1</td>\n",
       "      <td>0</td>\n",
       "      <td>1</td>\n",
       "      <td>0</td>\n",
       "      <td>0</td>\n",
       "    </tr>\n",
       "    <tr>\n",
       "      <th>12877</th>\n",
       "      <td>0</td>\n",
       "      <td>-0.425540</td>\n",
       "      <td>-1.555711</td>\n",
       "      <td>-0.348645</td>\n",
       "      <td>-0.474956</td>\n",
       "      <td>0.430806</td>\n",
       "      <td>0.442610</td>\n",
       "      <td>0</td>\n",
       "      <td>0</td>\n",
       "      <td>0</td>\n",
       "      <td>1</td>\n",
       "      <td>0</td>\n",
       "      <td>1</td>\n",
       "      <td>0</td>\n",
       "      <td>0</td>\n",
       "    </tr>\n",
       "    <tr>\n",
       "      <th>13245</th>\n",
       "      <td>0</td>\n",
       "      <td>-0.425540</td>\n",
       "      <td>-0.232745</td>\n",
       "      <td>1.928109</td>\n",
       "      <td>-0.474956</td>\n",
       "      <td>-1.024644</td>\n",
       "      <td>-0.473865</td>\n",
       "      <td>1</td>\n",
       "      <td>0</td>\n",
       "      <td>1</td>\n",
       "      <td>0</td>\n",
       "      <td>0</td>\n",
       "      <td>0</td>\n",
       "      <td>0</td>\n",
       "      <td>1</td>\n",
       "    </tr>\n",
       "    <tr>\n",
       "      <th>30493</th>\n",
       "      <td>0</td>\n",
       "      <td>-0.983958</td>\n",
       "      <td>-0.232745</td>\n",
       "      <td>-0.348645</td>\n",
       "      <td>-0.474956</td>\n",
       "      <td>-0.192959</td>\n",
       "      <td>-0.473865</td>\n",
       "      <td>0</td>\n",
       "      <td>0</td>\n",
       "      <td>0</td>\n",
       "      <td>1</td>\n",
       "      <td>0</td>\n",
       "      <td>1</td>\n",
       "      <td>0</td>\n",
       "      <td>0</td>\n",
       "    </tr>\n",
       "  </tbody>\n",
       "</table>\n",
       "</div>"
      ],
      "text/plain": [
       "       host_is_superhost  accommodates  bedrooms  bathrooms_number      beds  \\\n",
       "11191                  1     -0.425540 -0.232745         -0.348645 -0.474956   \n",
       "12643                  1      0.691296  1.090220         -0.348645  1.371645   \n",
       "12877                  0     -0.425540 -1.555711         -0.348645 -0.474956   \n",
       "13245                  0     -0.425540 -0.232745          1.928109 -0.474956   \n",
       "30493                  0     -0.983958 -0.232745         -0.348645 -0.474956   \n",
       "\n",
       "       num_amenities  number_of_reviews  instant_bookable  \\\n",
       "11191       0.014963           1.213281                 1   \n",
       "12643       0.950609           1.588203                 0   \n",
       "12877       0.430806           0.442610                 0   \n",
       "13245      -1.024644          -0.473865                 1   \n",
       "30493      -0.192959          -0.473865                 0   \n",
       "\n",
       "       neighbourhood_group_Bronx  neighbourhood_group_Brooklyn  \\\n",
       "11191                          0                             0   \n",
       "12643                          0                             0   \n",
       "12877                          0                             0   \n",
       "13245                          0                             1   \n",
       "30493                          0                             0   \n",
       "\n",
       "       neighbourhood_group_Manhattan  neighbourhood_group_Queens  \\\n",
       "11191                              0                           1   \n",
       "12643                              1                           0   \n",
       "12877                              1                           0   \n",
       "13245                              0                           0   \n",
       "30493                              1                           0   \n",
       "\n",
       "       room_type_Entire home/apt  room_type_Hotel room  room_type_Private room  \n",
       "11191                          0                     0                       1  \n",
       "12643                          1                     0                       0  \n",
       "12877                          1                     0                       0  \n",
       "13245                          0                     0                       1  \n",
       "30493                          1                     0                       0  "
      ]
     },
     "execution_count": 23,
     "metadata": {},
     "output_type": "execute_result"
    }
   ],
   "source": [
    "X_test.head()"
   ]
  },
  {
   "cell_type": "code",
   "execution_count": 24,
   "metadata": {},
   "outputs": [
    {
     "data": {
      "text/html": [
       "<div>\n",
       "<style scoped>\n",
       "    .dataframe tbody tr th:only-of-type {\n",
       "        vertical-align: middle;\n",
       "    }\n",
       "\n",
       "    .dataframe tbody tr th {\n",
       "        vertical-align: top;\n",
       "    }\n",
       "\n",
       "    .dataframe thead th {\n",
       "        text-align: right;\n",
       "    }\n",
       "</style>\n",
       "<table border=\"1\" class=\"dataframe\">\n",
       "  <thead>\n",
       "    <tr style=\"text-align: right;\">\n",
       "      <th></th>\n",
       "      <th>host_is_superhost</th>\n",
       "      <th>accommodates</th>\n",
       "      <th>bedrooms</th>\n",
       "      <th>bathrooms_number</th>\n",
       "      <th>beds</th>\n",
       "      <th>num_amenities</th>\n",
       "      <th>number_of_reviews</th>\n",
       "      <th>instant_bookable</th>\n",
       "      <th>neighbourhood_group_Bronx</th>\n",
       "      <th>neighbourhood_group_Brooklyn</th>\n",
       "      <th>neighbourhood_group_Manhattan</th>\n",
       "      <th>neighbourhood_group_Queens</th>\n",
       "      <th>room_type_Entire home/apt</th>\n",
       "      <th>room_type_Hotel room</th>\n",
       "      <th>room_type_Private room</th>\n",
       "    </tr>\n",
       "  </thead>\n",
       "  <tbody>\n",
       "    <tr>\n",
       "      <th>1367</th>\n",
       "      <td>0</td>\n",
       "      <td>-0.425540</td>\n",
       "      <td>-0.232745</td>\n",
       "      <td>-0.348645</td>\n",
       "      <td>-0.474956</td>\n",
       "      <td>-0.400880</td>\n",
       "      <td>-0.453036</td>\n",
       "      <td>0</td>\n",
       "      <td>0</td>\n",
       "      <td>1</td>\n",
       "      <td>0</td>\n",
       "      <td>0</td>\n",
       "      <td>1</td>\n",
       "      <td>0</td>\n",
       "      <td>0</td>\n",
       "    </tr>\n",
       "    <tr>\n",
       "      <th>30755</th>\n",
       "      <td>0</td>\n",
       "      <td>0.132878</td>\n",
       "      <td>1.090220</td>\n",
       "      <td>1.928109</td>\n",
       "      <td>-0.474956</td>\n",
       "      <td>-0.608801</td>\n",
       "      <td>-0.473865</td>\n",
       "      <td>1</td>\n",
       "      <td>0</td>\n",
       "      <td>0</td>\n",
       "      <td>1</td>\n",
       "      <td>0</td>\n",
       "      <td>1</td>\n",
       "      <td>0</td>\n",
       "      <td>0</td>\n",
       "    </tr>\n",
       "    <tr>\n",
       "      <th>31894</th>\n",
       "      <td>0</td>\n",
       "      <td>0.132878</td>\n",
       "      <td>-0.232745</td>\n",
       "      <td>-0.348645</td>\n",
       "      <td>-0.474956</td>\n",
       "      <td>0.638727</td>\n",
       "      <td>-0.473865</td>\n",
       "      <td>1</td>\n",
       "      <td>0</td>\n",
       "      <td>0</td>\n",
       "      <td>1</td>\n",
       "      <td>0</td>\n",
       "      <td>1</td>\n",
       "      <td>0</td>\n",
       "      <td>0</td>\n",
       "    </tr>\n",
       "    <tr>\n",
       "      <th>27540</th>\n",
       "      <td>0</td>\n",
       "      <td>0.132878</td>\n",
       "      <td>-0.232745</td>\n",
       "      <td>-0.348645</td>\n",
       "      <td>-0.474956</td>\n",
       "      <td>1.366452</td>\n",
       "      <td>-0.453036</td>\n",
       "      <td>1</td>\n",
       "      <td>1</td>\n",
       "      <td>0</td>\n",
       "      <td>0</td>\n",
       "      <td>0</td>\n",
       "      <td>1</td>\n",
       "      <td>0</td>\n",
       "      <td>0</td>\n",
       "    </tr>\n",
       "    <tr>\n",
       "      <th>12073</th>\n",
       "      <td>0</td>\n",
       "      <td>-0.425540</td>\n",
       "      <td>-0.232745</td>\n",
       "      <td>-0.348645</td>\n",
       "      <td>-0.474956</td>\n",
       "      <td>-0.088998</td>\n",
       "      <td>-0.078115</td>\n",
       "      <td>0</td>\n",
       "      <td>0</td>\n",
       "      <td>1</td>\n",
       "      <td>0</td>\n",
       "      <td>0</td>\n",
       "      <td>0</td>\n",
       "      <td>0</td>\n",
       "      <td>1</td>\n",
       "    </tr>\n",
       "  </tbody>\n",
       "</table>\n",
       "</div>"
      ],
      "text/plain": [
       "       host_is_superhost  accommodates  bedrooms  bathrooms_number      beds  \\\n",
       "1367                   0     -0.425540 -0.232745         -0.348645 -0.474956   \n",
       "30755                  0      0.132878  1.090220          1.928109 -0.474956   \n",
       "31894                  0      0.132878 -0.232745         -0.348645 -0.474956   \n",
       "27540                  0      0.132878 -0.232745         -0.348645 -0.474956   \n",
       "12073                  0     -0.425540 -0.232745         -0.348645 -0.474956   \n",
       "\n",
       "       num_amenities  number_of_reviews  instant_bookable  \\\n",
       "1367       -0.400880          -0.453036                 0   \n",
       "30755      -0.608801          -0.473865                 1   \n",
       "31894       0.638727          -0.473865                 1   \n",
       "27540       1.366452          -0.453036                 1   \n",
       "12073      -0.088998          -0.078115                 0   \n",
       "\n",
       "       neighbourhood_group_Bronx  neighbourhood_group_Brooklyn  \\\n",
       "1367                           0                             1   \n",
       "30755                          0                             0   \n",
       "31894                          0                             0   \n",
       "27540                          1                             0   \n",
       "12073                          0                             1   \n",
       "\n",
       "       neighbourhood_group_Manhattan  neighbourhood_group_Queens  \\\n",
       "1367                               0                           0   \n",
       "30755                              1                           0   \n",
       "31894                              1                           0   \n",
       "27540                              0                           0   \n",
       "12073                              0                           0   \n",
       "\n",
       "       room_type_Entire home/apt  room_type_Hotel room  room_type_Private room  \n",
       "1367                           1                     0                       0  \n",
       "30755                          1                     0                       0  \n",
       "31894                          1                     0                       0  \n",
       "27540                          1                     0                       0  \n",
       "12073                          0                     0                       1  "
      ]
     },
     "execution_count": 24,
     "metadata": {},
     "output_type": "execute_result"
    }
   ],
   "source": [
    "X_train.head()"
   ]
  },
  {
   "cell_type": "markdown",
   "metadata": {},
   "source": [
    " <font color='blue'>1. DUMMY REGRESSOR (using mean)</font>"
   ]
  },
  {
   "cell_type": "code",
   "execution_count": 25,
   "metadata": {},
   "outputs": [
    {
     "data": {
      "text/plain": [
       "0.0"
      ]
     },
     "execution_count": 25,
     "metadata": {},
     "output_type": "execute_result"
    }
   ],
   "source": [
    "# Initially can use a dummyregressor\n",
    "from sklearn.dummy import DummyRegressor\n",
    "dumb_reg = DummyRegressor(strategy='mean')\n",
    "dumb_reg.fit(X_train, y_train)\n",
    "dumb_reg_pred = dumb_reg.predict(X_train)\n",
    "r2_score(y_train, dumb_reg_pred)\n"
   ]
  },
  {
   "cell_type": "markdown",
   "metadata": {},
   "source": [
    "<font color='blue'>2. LINEAR REGRESSION</font>"
   ]
  },
  {
   "cell_type": "code",
   "execution_count": 26,
   "metadata": {},
   "outputs": [
    {
     "data": {
      "text/plain": [
       "0.5256124148862091"
      ]
     },
     "execution_count": 26,
     "metadata": {},
     "output_type": "execute_result"
    }
   ],
   "source": [
    "lr = LinearRegression().fit(X_train, y_train)\n",
    "y_tr_pred = lr.predict(X_train)\n",
    "r2_score(y_train, y_tr_pred)\n"
   ]
  },
  {
   "cell_type": "code",
   "execution_count": 27,
   "metadata": {},
   "outputs": [
    {
     "data": {
      "text/plain": [
       "0.5087787513048743"
      ]
     },
     "execution_count": 27,
     "metadata": {},
     "output_type": "execute_result"
    }
   ],
   "source": [
    "y_tes_pred = lr.predict(X_test)\n",
    "r2_score(y_test, y_tes_pred)"
   ]
  },
  {
   "cell_type": "code",
   "execution_count": 28,
   "metadata": {},
   "outputs": [
    {
     "data": {
      "text/plain": [
       "0.36216255508863926"
      ]
     },
     "execution_count": 28,
     "metadata": {},
     "output_type": "execute_result"
    }
   ],
   "source": [
    "mean_absolute_error(y_train, y_tr_pred)"
   ]
  },
  {
   "cell_type": "code",
   "execution_count": 29,
   "metadata": {},
   "outputs": [
    {
     "data": {
      "text/plain": [
       "0.36583084283426187"
      ]
     },
     "execution_count": 29,
     "metadata": {},
     "output_type": "execute_result"
    }
   ],
   "source": [
    "mean_absolute_error(y_test, y_tes_pred)"
   ]
  },
  {
   "cell_type": "code",
   "execution_count": 30,
   "metadata": {},
   "outputs": [
    {
     "name": "stdout",
     "output_type": "stream",
     "text": [
      "                            OLS Regression Results                            \n",
      "==============================================================================\n",
      "Dep. Variable:              log_price   R-squared:                       0.526\n",
      "Model:                            OLS   Adj. R-squared:                  0.525\n",
      "Method:                 Least Squares   F-statistic:                     2021.\n",
      "Date:                Thu, 26 Aug 2021   Prob (F-statistic):               0.00\n",
      "Time:                        09:50:26   Log-Likelihood:                -18124.\n",
      "No. Observations:               27375   AIC:                         3.628e+04\n",
      "Df Residuals:                   27359   BIC:                         3.641e+04\n",
      "Df Model:                          15                                         \n",
      "Covariance Type:            nonrobust                                         \n",
      "=================================================================================================\n",
      "                                    coef    std err          t      P>|t|      [0.025      0.975]\n",
      "-------------------------------------------------------------------------------------------------\n",
      "const                             3.8363      0.038    100.395      0.000       3.761       3.911\n",
      "host_is_superhost                 0.0145      0.008      1.774      0.076      -0.002       0.030\n",
      "accommodates                      0.1761      0.005     37.076      0.000       0.167       0.185\n",
      "bedrooms                          0.0802      0.004     19.525      0.000       0.072       0.088\n",
      "bathrooms_number                  0.0205      0.003      6.490      0.000       0.014       0.027\n",
      "beds                             -0.0143      0.004     -3.231      0.001      -0.023      -0.006\n",
      "num_amenities                     0.0314      0.003      9.832      0.000       0.025       0.038\n",
      "number_of_reviews                -0.0242      0.003     -7.871      0.000      -0.030      -0.018\n",
      "instant_bookable                  0.0400      0.006      6.266      0.000       0.027       0.053\n",
      "neighbourhood_group_Bronx         0.0210      0.036      0.583      0.560      -0.050       0.092\n",
      "neighbourhood_group_Brooklyn      0.1622      0.032      5.046      0.000       0.099       0.225\n",
      "neighbourhood_group_Manhattan     0.4445      0.032     13.816      0.000       0.381       0.508\n",
      "neighbourhood_group_Queens        0.0274      0.033      0.836      0.403      -0.037       0.092\n",
      "room_type_Entire home/apt         0.7808      0.022     36.178      0.000       0.739       0.823\n",
      "room_type_Hotel room              1.0245      0.043     23.869      0.000       0.940       1.109\n",
      "room_type_Private room            0.2106      0.021      9.879      0.000       0.169       0.252\n",
      "==============================================================================\n",
      "Omnibus:                     2322.847   Durbin-Watson:                   2.001\n",
      "Prob(Omnibus):                  0.000   Jarque-Bera (JB):             4669.126\n",
      "Skew:                           0.571   Prob(JB):                         0.00\n",
      "Kurtosis:                       4.671   Cond. No.                         42.4\n",
      "==============================================================================\n",
      "\n",
      "Notes:\n",
      "[1] Standard Errors assume that the covariance matrix of the errors is correctly specified.\n"
     ]
    }
   ],
   "source": [
    "import statsmodels.api as sm\n",
    "from scipy import stats\n",
    "\n",
    "X_train2 = sm.add_constant(X_train)\n",
    "est = sm.OLS(y_train, X_train2)\n",
    "est2 = est.fit()\n",
    "print(est2.summary())"
   ]
  },
  {
   "cell_type": "markdown",
   "metadata": {},
   "source": [
    "<font color='green'>2.1 Use of Lasso and Ridge regression with Gridsearh CV</font>"
   ]
  },
  {
   "cell_type": "code",
   "execution_count": 31,
   "metadata": {},
   "outputs": [
    {
     "name": "stdout",
     "output_type": "stream",
     "text": [
      "Fitting 5 folds for each of 5 candidates, totalling 25 fits\n"
     ]
    },
    {
     "name": "stderr",
     "output_type": "stream",
     "text": [
      "[Parallel(n_jobs=-1)]: Using backend LokyBackend with 8 concurrent workers.\n"
     ]
    },
    {
     "name": "stdout",
     "output_type": "stream",
     "text": [
      "0.5230764499243993\n",
      "{'alpha': 0.001}\n"
     ]
    },
    {
     "name": "stderr",
     "output_type": "stream",
     "text": [
      "[Parallel(n_jobs=-1)]: Done  25 out of  25 | elapsed:   13.1s finished\n"
     ]
    }
   ],
   "source": [
    "# In order to avoid overfitting Lasso regression was used. \n",
    "\n",
    "from sklearn.linear_model import Lasso\n",
    "from sklearn.model_selection import GridSearchCV\n",
    "\n",
    "alpha = [0.001, 0.01, 0.1, 1, 10]\n",
    "\n",
    "param_grid = dict(alpha = alpha)\n",
    "\n",
    "lasso = Lasso()\n",
    "grid = GridSearchCV(lasso, param_grid, scoring='r2', verbose=1, n_jobs=-1)\n",
    "grid_result = grid.fit(X_train, y_train)\n",
    "print(grid_result.best_score_)\n",
    "print(grid_result.best_params_)\n",
    "\n"
   ]
  },
  {
   "cell_type": "code",
   "execution_count": 32,
   "metadata": {},
   "outputs": [
    {
     "name": "stdout",
     "output_type": "stream",
     "text": [
      "[ 0.00578625  0.17758425  0.07926741  0.01842615 -0.01371626  0.03034773\n",
      " -0.02168835  0.03720054 -0.          0.11447114  0.39860596 -0.0114152\n",
      "  0.61756099  0.69295934  0.04703748]\n",
      "0.36282595179617083\n",
      "0.36690008390140166\n"
     ]
    }
   ],
   "source": [
    "\n",
    "lasso = Lasso(alpha=0.001)\n",
    "lasso_result = lasso.fit(X_train, y_train)\n",
    "y_train_pred = lasso_result.predict(X_train)\n",
    "y_test_pred = lasso_result.predict(X_test)\n",
    "mae_train = mean_absolute_error(y_train, y_train_pred)\n",
    "mae_test = mean_absolute_error(y_test, y_test_pred)\n",
    "print(lasso_result.coef_)\n",
    "print(mae_train)\n",
    "print(mae_test)"
   ]
  },
  {
   "cell_type": "code",
   "execution_count": 33,
   "metadata": {},
   "outputs": [
    {
     "name": "stdout",
     "output_type": "stream",
     "text": [
      "Accuracy score (training): 0.570\n",
      "Accuracy score (validation): 0.549\n",
      "mae: 0.349\n"
     ]
    }
   ],
   "source": [
    "from sklearn.ensemble import GradientBoostingRegressor\n",
    "gb = GradientBoostingRegressor()\n",
    "gbb = gb.fit(X_train, y_train)\n",
    "print(\"Accuracy score (training): {0:.3f}\".format(gb.score(X_train, y_train)))\n",
    "print(\"Accuracy score (validation): {0:.3f}\".format(gb.score(X_test, y_test)))\n",
    "y_pred = gb.predict(X_test)\n",
    "print('mae: {0:.3f}'.format(mean_absolute_error(y_test, y_pred)))    "
   ]
  },
  {
   "cell_type": "code",
   "execution_count": 34,
   "metadata": {},
   "outputs": [
    {
     "name": "stderr",
     "output_type": "stream",
     "text": [
      "<ipython-input-34-c1e74b6e8751>:6: UserWarning: Matplotlib is currently using module://ipykernel.pylab.backend_inline, which is a non-GUI backend, so cannot show the figure.\n",
      "  fig.show()\n"
     ]
    },
    {
     "data": {
      "image/png": "[encoded data removed]",
      "text/plain": [
       "<Figure size 432x288 with 1 Axes>"
      ]
     },
     "metadata": {
      "needs_background": "light"
     },
     "output_type": "display_data"
    }
   ],
   "source": [
    "fig,ax = plt.subplots()\n",
    "ax.scatter(np.exp(y_test), np.exp(y_pred))\n",
    "ax.plot([np.exp(y_test.min()), np.exp(y_test.max())], [np.exp(y_test.min()), np.exp(y_test.max())], 'k--', lw=4)\n",
    "ax.set_xlabel('Actual')\n",
    "ax.set_ylabel('Predicted')\n",
    "fig.show()"
   ]
  },
  {
   "cell_type": "code",
   "execution_count": 35,
   "metadata": {},
   "outputs": [],
   "source": [
    "from sklearn.neighbors import KNeighborsRegressor\n",
    "\n",
    "\n",
    "test_scores = []\n",
    "train_scores = []\n",
    "\n",
    "\n",
    "for i in range(10,40):\n",
    "\n",
    "    knn = KNeighborsRegressor(i)\n",
    "    knn.fit(X_train,y_train)\n",
    "    \n",
    "    train_scores.append(knn.score(X_train,y_train))\n",
    "    test_scores.append(knn.score(X_test,y_test))\n",
    "    "
   ]
  },
  {
   "cell_type": "code",
   "execution_count": 36,
   "metadata": {},
   "outputs": [
    {
     "name": "stdout",
     "output_type": "stream",
     "text": [
      "[0.6273314807323427, 0.6221645729591108, 0.618379520203622, 0.6150268939775929, 0.6120009196635685, 0.6093000999454032, 0.607284202576853, 0.6050871429180344, 0.6035649659883542, 0.6013285490156058, 0.5997535911082849, 0.5977615445730816, 0.596038652230382, 0.5942343475221616, 0.5929146577044577, 0.5914275114877788, 0.5899330205697269, 0.5889111872927544, 0.5878280206721682, 0.5866898048711333, 0.5857113589029752, 0.5847651395256843, 0.5837676143803715, 0.5828405576750386, 0.5822772571406376, 0.5814617553464734, 0.5806746863905063, 0.5799320058030835, 0.579240336720223, 0.5783098639665962]\n",
      "[0.5244224072874228, 0.5270185677863981, 0.5292595030576317, 0.5305891098703084, 0.5321531719727445, 0.5339831623829563, 0.5353046671536865, 0.5366575506045659, 0.5373421576308994, 0.5383292442968273, 0.5389422685268144, 0.5396767845806023, 0.5391871091763855, 0.5396913334263148, 0.5400437161357399, 0.5400045156691373, 0.539584035462856, 0.5401432492456941, 0.5403954291580029, 0.5411164268246036, 0.5409249857725615, 0.5414797927149617, 0.5408140954500962, 0.5410605507450207, 0.5406201066217489, 0.5401984921614098, 0.5401712978966933, 0.5406822205535178, 0.5407670684729996, 0.5406632379879808]\n"
     ]
    }
   ],
   "source": [
    "print(train_scores)\n",
    "print(test_scores)"
   ]
  },
  {
   "cell_type": "code",
   "execution_count": 37,
   "metadata": {},
   "outputs": [
    {
     "data": {
      "image/png": "[encoded data removed]",
      "text/plain": [
       "<Figure size 864x360 with 1 Axes>"
      ]
     },
     "metadata": {
      "needs_background": "light"
     },
     "output_type": "display_data"
    }
   ],
   "source": [
    "plt.figure(figsize=(12,5))\n",
    "p = sns.lineplot(x=range(10,40),y=train_scores,marker='*',label='Train Score')\n",
    "p = sns.lineplot(x=range(10,40),y=test_scores,marker='o',label='Test Score')"
   ]
  },
  {
   "cell_type": "markdown",
   "metadata": {},
   "source": [
    "<font color='blue'>3.Random Forest Regression Along with RandomizedSearchCV</font>"
   ]
  },
  {
   "cell_type": "code",
   "execution_count": 38,
   "metadata": {},
   "outputs": [],
   "source": [
    "from sklearn.model_selection import RandomizedSearchCV\n",
    "# Number of trees in random forest\n",
    "n_estimators = [int(x) for x in np.linspace(start = 100, stop = 500, num = 10)]\n",
    "# Number of features to consider at every split\n",
    "max_features = ['auto', 'sqrt']\n",
    "# Maximum number of levels in tree\n",
    "max_depth = [int(x) for x in np.linspace(10, 110, num = 11)]\n",
    "#max_depth.append(None)\n",
    "\n",
    "# Create the random grid\n",
    "random_grid = {'n_estimators': n_estimators,\n",
    "               'max_features': max_features,\n",
    "               'max_depth': max_depth}"
   ]
  },
  {
   "cell_type": "code",
   "execution_count": 39,
   "metadata": {},
   "outputs": [
    {
     "name": "stdout",
     "output_type": "stream",
     "text": [
      "Fitting 5 folds for each of 10 candidates, totalling 50 fits\n"
     ]
    },
    {
     "name": "stderr",
     "output_type": "stream",
     "text": [
      "[Parallel(n_jobs=-1)]: Using backend LokyBackend with 8 concurrent workers.\n",
      "[Parallel(n_jobs=-1)]: Done  25 tasks      | elapsed:  2.9min\n",
      "[Parallel(n_jobs=-1)]: Done  50 out of  50 | elapsed: 192.1min finished\n"
     ]
    },
    {
     "data": {
      "text/plain": [
       "RandomizedSearchCV(cv=5, estimator=RandomForestRegressor(), n_jobs=-1,\n",
       "                   param_distributions={'max_depth': [10, 20, 30, 40, 50, 60,\n",
       "                                                      70, 80, 90, 100, 110],\n",
       "                                        'max_features': ['auto', 'sqrt'],\n",
       "                                        'n_estimators': [100, 144, 188, 233,\n",
       "                                                         277, 322, 366, 411,\n",
       "                                                         455, 500]},\n",
       "                   random_state=42, verbose=2)"
      ]
     },
     "execution_count": 39,
     "metadata": {},
     "output_type": "execute_result"
    }
   ],
   "source": [
    "from sklearn.ensemble import RandomForestRegressor\n",
    "\n",
    "rf = RandomForestRegressor()\n",
    "rf_rs = RandomizedSearchCV(rf, random_grid, cv=5, n_iter = 10, verbose=2, random_state=42, n_jobs = -1)\n",
    "# Fit the random search model\n",
    "rf_rs.fit(X_train, y_train)"
   ]
  },
  {
   "cell_type": "code",
   "execution_count": 40,
   "metadata": {},
   "outputs": [
    {
     "data": {
      "text/plain": [
       "{'n_estimators': 322, 'max_features': 'sqrt', 'max_depth': 10}"
      ]
     },
     "execution_count": 40,
     "metadata": {},
     "output_type": "execute_result"
    }
   ],
   "source": [
    "rf_rs.best_params_"
   ]
  },
  {
   "cell_type": "code",
   "execution_count": 41,
   "metadata": {},
   "outputs": [
    {
     "data": {
      "text/plain": [
       "0.5736087794581042"
      ]
     },
     "execution_count": 41,
     "metadata": {},
     "output_type": "execute_result"
    }
   ],
   "source": [
    "rf_rs.best_score_"
   ]
  },
  {
   "cell_type": "code",
   "execution_count": null,
   "metadata": {},
   "outputs": [],
   "source": []
  }
 ],
 "metadata": {
  "kernelspec": {
   "display_name": "Python 3",
   "language": "python",
   "name": "python3"
  },
  "language_info": {
   "codemirror_mode": {
    "name": "ipython",
    "version": 3
   },
   "file_extension": ".py",
   "mimetype": "text/x-python",
   "name": "python",
   "nbconvert_exporter": "python",
   "pygments_lexer": "ipython3",
   "version": "3.8.5"
  }
 },
 "nbformat": 4,
 "nbformat_minor": 4
}

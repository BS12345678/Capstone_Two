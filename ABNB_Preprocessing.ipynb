{
 "cells": [
  {
   "cell_type": "code",
   "execution_count": 27,
   "metadata": {},
   "outputs": [],
   "source": [
    "\n",
    "#Import pandas, matplotlib.pyplot, and seaborn in the correct lines below\n",
    "import pandas as pd\n",
    "import matplotlib.pyplot as plt\n",
    "import seaborn as sns\n",
    "import os\n",
    "import datetime as dt\n",
    "from matplotlib.pyplot import figure\n",
    "import numpy as np"
   ]
  },
  {
   "cell_type": "code",
   "execution_count": 28,
   "metadata": {},
   "outputs": [],
   "source": [
    "abnb_5 = pd.read_csv('C:/Users/tnsub/Google Drive/SPRINGBOARD DSC/ABNB_Project/Notebooks/abnb_5_afterexploratory.csv')"
   ]
  },
  {
   "cell_type": "markdown",
   "metadata": {},
   "source": [
    "Some more adjustments for missing values"
   ]
  },
  {
   "cell_type": "code",
   "execution_count": 29,
   "metadata": {},
   "outputs": [],
   "source": [
    "\n",
    "#1. host_is_superhost (missingness is 3.6%). \n",
    "def missingness(feature):\n",
    "    return (feature.isnull().sum()/feature.count())*100\n"
   ]
  },
  {
   "cell_type": "code",
   "execution_count": 30,
   "metadata": {},
   "outputs": [
    {
     "name": "stdout",
     "output_type": "stream",
     "text": [
      "3.5747696669029057\n",
      "0.31024352744145184\n",
      "1.590479368257146\n",
      "38.81986397659485\n"
     ]
    }
   ],
   "source": [
    "print(missingness(abnb_5['host_is_superhost']))\n",
    "print(missingness(abnb_5['bathrooms_number']))\n",
    "print(missingness(abnb_5['beds']))\n",
    "print(missingness(abnb_5['review_scores_rating']))"
   ]
  },
  {
   "cell_type": "code",
   "execution_count": 31,
   "metadata": {},
   "outputs": [],
   "source": [
    "#for superhost feature, can impute 0s for NaN (because in most cases, missing implies they are not superhosts)\n",
    "abnb_5['host_is_superhost'] = abnb_5['host_is_superhost'].fillna(0)"
   ]
  },
  {
   "cell_type": "code",
   "execution_count": 32,
   "metadata": {},
   "outputs": [],
   "source": [
    "abnb_5['host_is_superhost'] = abnb_5['host_is_superhost'].astype(int)"
   ]
  },
  {
   "cell_type": "code",
   "execution_count": 33,
   "metadata": {},
   "outputs": [
    {
     "name": "stdout",
     "output_type": "stream",
     "text": [
      "count    36423.000000\n",
      "mean         1.152019\n",
      "std          0.437700\n",
      "min          0.000000\n",
      "25%          1.000000\n",
      "50%          1.000000\n",
      "75%          1.000000\n",
      "max          8.000000\n",
      "Name: bathrooms_number, dtype: float64\n",
      "count    35964.000000\n",
      "mean         1.521132\n",
      "std          1.089174\n",
      "min          0.000000\n",
      "25%          1.000000\n",
      "50%          1.000000\n",
      "75%          2.000000\n",
      "max         24.000000\n",
      "Name: beds, dtype: float64\n"
     ]
    }
   ],
   "source": [
    "print(abnb_5['bathrooms_number'].describe())\n",
    "print(abnb_5['beds'].describe())"
   ]
  },
  {
   "cell_type": "code",
   "execution_count": 34,
   "metadata": {},
   "outputs": [],
   "source": [
    "# for bathrooms NaNs imputed with 1 as it's the median value\n",
    "abnb_5['bathrooms_number'] = abnb_5['bathrooms_number'].fillna(abnb_5['bathrooms_number'].median())\n"
   ]
  },
  {
   "cell_type": "code",
   "execution_count": 35,
   "metadata": {},
   "outputs": [],
   "source": [
    "abnb_5['beds'] = abnb_5['beds'].fillna(abnb_5['beds'].median())"
   ]
  },
  {
   "cell_type": "code",
   "execution_count": 36,
   "metadata": {},
   "outputs": [],
   "source": [
    "# Since review_scores_rating has around 38% missingness, it's better not to impute missingvalues and therefore cannot be used \n",
    "# in modeling."
   ]
  },
  {
   "cell_type": "markdown",
   "metadata": {},
   "source": [
    "35 datapoints in target feature has 0s, this needs to be removed. Then it \n",
    "needs to be log transformed as discussed in Exploratory analysis.\n"
   ]
  },
  {
   "cell_type": "code",
   "execution_count": 37,
   "metadata": {},
   "outputs": [
    {
     "data": {
      "text/plain": [
       "35"
      ]
     },
     "execution_count": 37,
     "metadata": {},
     "output_type": "execute_result"
    }
   ],
   "source": [
    "abnb_5['price'].loc[abnb_5['price'] == 0].count()"
   ]
  },
  {
   "cell_type": "code",
   "execution_count": 38,
   "metadata": {},
   "outputs": [],
   "source": [
    "abnb_5 = abnb_5.loc[abnb_5['price'] != 0]"
   ]
  },
  {
   "cell_type": "code",
   "execution_count": 39,
   "metadata": {},
   "outputs": [
    {
     "data": {
      "text/plain": [
       "count    36501.000000\n",
       "mean       130.205748\n",
       "std        110.195914\n",
       "min         10.000000\n",
       "25%         60.000000\n",
       "50%        100.000000\n",
       "75%        156.000000\n",
       "max        946.000000\n",
       "Name: price, dtype: float64"
      ]
     },
     "execution_count": 39,
     "metadata": {},
     "output_type": "execute_result"
    }
   ],
   "source": [
    "abnb_5['price'].describe()"
   ]
  },
  {
   "cell_type": "code",
   "execution_count": 54,
   "metadata": {},
   "outputs": [
    {
     "data": {
      "image/png": "[encoded data removed]",
      "text/plain": [
       "<Figure size 432x288 with 1 Axes>"
      ]
     },
     "metadata": {
      "needs_background": "light"
     },
     "output_type": "display_data"
    }
   ],
   "source": [
    "abnb_5['price'].hist()\n",
    "plt.show()"
   ]
  },
  {
   "cell_type": "code",
   "execution_count": 40,
   "metadata": {},
   "outputs": [],
   "source": [
    "# To fix this extremely skewed price distribution close to a normal dist, we can log transform the feature.\n",
    "abnb_5['log_price'] = np.log(abnb_5['price'])\n"
   ]
  },
  {
   "cell_type": "code",
   "execution_count": 41,
   "metadata": {},
   "outputs": [
    {
     "data": {
      "image/png": "[encoded data removed]",
      "text/plain": [
       "<Figure size 432x288 with 1 Axes>"
      ]
     },
     "metadata": {
      "needs_background": "light"
     },
     "output_type": "display_data"
    }
   ],
   "source": [
    "# After transformation histogram looks more normally distributed\n",
    "abnb_5['log_price'].hist()\n",
    "plt.show()"
   ]
  },
  {
   "cell_type": "code",
   "execution_count": 16,
   "metadata": {},
   "outputs": [],
   "source": [
    "pd.set_option('display.max_columns', None)"
   ]
  },
  {
   "cell_type": "code",
   "execution_count": 42,
   "metadata": {},
   "outputs": [
    {
     "name": "stdout",
     "output_type": "stream",
     "text": [
      "<class 'pandas.core.frame.DataFrame'>\n",
      "Int64Index: 36501 entries, 0 to 36535\n",
      "Data columns (total 51 columns):\n",
      " #   Column                             Non-Null Count  Dtype  \n",
      "---  ------                             --------------  -----  \n",
      " 0   Unnamed: 0                         36501 non-null  int64  \n",
      " 1   central_park_lati                  36501 non-null  float64\n",
      " 2   central_park_longi                 36501 non-null  float64\n",
      " 3   Unnamed: 0.1                       36501 non-null  int64  \n",
      " 4   Listing #                          36501 non-null  int64  \n",
      " 5   name                               36488 non-null  object \n",
      " 6   host_id                            36501 non-null  int64  \n",
      " 7   host_name                          35242 non-null  object \n",
      " 8   host_since                         35242 non-null  object \n",
      " 9   host_about                         21022 non-null  object \n",
      " 10  host_response_time                 18427 non-null  object \n",
      " 11  host_response_rate                 18427 non-null  float64\n",
      " 12  host_acceptance_rate               19944 non-null  float64\n",
      " 13  host_is_superhost                  36501 non-null  int32  \n",
      " 14  host_identity_verified             35242 non-null  object \n",
      " 15  neighbourhood_cleansed             36501 non-null  object \n",
      " 16  neighbourhood_group_cleansed       36501 non-null  object \n",
      " 17  latitude                           36501 non-null  float64\n",
      " 18  longitude                          36501 non-null  float64\n",
      " 19  property_type                      36501 non-null  object \n",
      " 20  room_type                          36501 non-null  object \n",
      " 21  accommodates                       36501 non-null  int64  \n",
      " 22  bathrooms_text                     36423 non-null  object \n",
      " 23  bedrooms                           36501 non-null  float64\n",
      " 24  beds                               36501 non-null  float64\n",
      " 25  amenities                          36501 non-null  object \n",
      " 26  price                              36501 non-null  float64\n",
      " 27  number_of_reviews                  36501 non-null  int64  \n",
      " 28  number_of_reviews_ltm              36501 non-null  int64  \n",
      " 29  number_of_reviews_l30d             36501 non-null  int64  \n",
      " 30  first_review                       27002 non-null  object \n",
      " 31  last_review                        27002 non-null  object \n",
      " 32  review_scores_rating               26319 non-null  float64\n",
      " 33  instant_bookable                   36501 non-null  int64  \n",
      " 34  reviews_per_month                  27002 non-null  float64\n",
      " 35  bathrooms_number                   36501 non-null  float64\n",
      " 36  num_amenities                      36501 non-null  int64  \n",
      " 37  price_bucket                       36501 non-null  object \n",
      " 38  neighbourhood_group_Bronx          36501 non-null  int64  \n",
      " 39  neighbourhood_group_Brooklyn       36501 non-null  int64  \n",
      " 40  neighbourhood_group_Manhattan      36501 non-null  int64  \n",
      " 41  neighbourhood_group_Queens         36501 non-null  int64  \n",
      " 42  neighbourhood_group_Staten Island  36501 non-null  int64  \n",
      " 43  room_type_Entire home/apt          36501 non-null  int64  \n",
      " 44  room_type_Hotel room               36501 non-null  int64  \n",
      " 45  room_type_Private room             36501 non-null  int64  \n",
      " 46  room_type_Shared room              36501 non-null  int64  \n",
      " 47  Age                                27002 non-null  float64\n",
      " 48  high_review_high_rating            26319 non-null  float64\n",
      " 49  income                             36501 non-null  int64  \n",
      " 50  log_price                          36501 non-null  float64\n",
      "dtypes: float64(15), int32(1), int64(20), object(15)\n",
      "memory usage: 14.3+ MB\n"
     ]
    }
   ],
   "source": [
    "abnb_5.info()"
   ]
  },
  {
   "cell_type": "code",
   "execution_count": 44,
   "metadata": {},
   "outputs": [],
   "source": [
    "# Subsetting features for further analysis.\n",
    "# from neighborhood and room type dummy variables, dropping one category\n",
    "abnb_6 = abnb_5[['Listing #', 'host_is_superhost', 'accommodates', 'bedrooms', 'bathrooms_number', 'beds', 'num_amenities',\n",
    "                 'number_of_reviews', 'instant_bookable', 'neighbourhood_group_Bronx', 'neighbourhood_group_Brooklyn', 'neighbourhood_group_Manhattan', \n",
    "                 'neighbourhood_group_Queens', 'room_type_Entire home/apt', 'room_type_Hotel room', 'room_type_Private room','income', 'price', 'log_price' ]]"
   ]
  },
  {
   "cell_type": "code",
   "execution_count": 45,
   "metadata": {},
   "outputs": [
    {
     "name": "stdout",
     "output_type": "stream",
     "text": [
      "<class 'pandas.core.frame.DataFrame'>\n",
      "Int64Index: 36501 entries, 0 to 36535\n",
      "Data columns (total 19 columns):\n",
      " #   Column                         Non-Null Count  Dtype  \n",
      "---  ------                         --------------  -----  \n",
      " 0   Listing #                      36501 non-null  int64  \n",
      " 1   host_is_superhost              36501 non-null  int32  \n",
      " 2   accommodates                   36501 non-null  int64  \n",
      " 3   bedrooms                       36501 non-null  float64\n",
      " 4   bathrooms_number               36501 non-null  float64\n",
      " 5   beds                           36501 non-null  float64\n",
      " 6   num_amenities                  36501 non-null  int64  \n",
      " 7   number_of_reviews              36501 non-null  int64  \n",
      " 8   instant_bookable               36501 non-null  int64  \n",
      " 9   neighbourhood_group_Bronx      36501 non-null  int64  \n",
      " 10  neighbourhood_group_Brooklyn   36501 non-null  int64  \n",
      " 11  neighbourhood_group_Manhattan  36501 non-null  int64  \n",
      " 12  neighbourhood_group_Queens     36501 non-null  int64  \n",
      " 13  room_type_Entire home/apt      36501 non-null  int64  \n",
      " 14  room_type_Hotel room           36501 non-null  int64  \n",
      " 15  room_type_Private room         36501 non-null  int64  \n",
      " 16  income                         36501 non-null  int64  \n",
      " 17  price                          36501 non-null  float64\n",
      " 18  log_price                      36501 non-null  float64\n",
      "dtypes: float64(5), int32(1), int64(13)\n",
      "memory usage: 5.4 MB\n"
     ]
    }
   ],
   "source": [
    "abnb_6.info()"
   ]
  },
  {
   "cell_type": "code",
   "execution_count": 46,
   "metadata": {},
   "outputs": [],
   "source": [
    "X = abnb_6.drop(columns = ['log_price', 'Listing #'], axis=1)\n",
    "y = abnb_6['log_price']"
   ]
  },
  {
   "cell_type": "code",
   "execution_count": 47,
   "metadata": {},
   "outputs": [],
   "source": [
    "# splitting data for train and test\n",
    "from sklearn.model_selection import train_test_split\n",
    "X_train, X_test, y_train, y_test = train_test_split(X, y, test_size=0.25, random_state=19)"
   ]
  },
  {
   "cell_type": "code",
   "execution_count": 48,
   "metadata": {},
   "outputs": [
    {
     "data": {
      "text/html": [
       "<div>\n",
       "<style scoped>\n",
       "    .dataframe tbody tr th:only-of-type {\n",
       "        vertical-align: middle;\n",
       "    }\n",
       "\n",
       "    .dataframe tbody tr th {\n",
       "        vertical-align: top;\n",
       "    }\n",
       "\n",
       "    .dataframe thead th {\n",
       "        text-align: right;\n",
       "    }\n",
       "</style>\n",
       "<table border=\"1\" class=\"dataframe\">\n",
       "  <thead>\n",
       "    <tr style=\"text-align: right;\">\n",
       "      <th></th>\n",
       "      <th>host_is_superhost</th>\n",
       "      <th>accommodates</th>\n",
       "      <th>bedrooms</th>\n",
       "      <th>bathrooms_number</th>\n",
       "      <th>beds</th>\n",
       "      <th>num_amenities</th>\n",
       "      <th>number_of_reviews</th>\n",
       "      <th>instant_bookable</th>\n",
       "      <th>neighbourhood_group_Bronx</th>\n",
       "      <th>neighbourhood_group_Brooklyn</th>\n",
       "      <th>neighbourhood_group_Manhattan</th>\n",
       "      <th>neighbourhood_group_Queens</th>\n",
       "      <th>room_type_Entire home/apt</th>\n",
       "      <th>room_type_Hotel room</th>\n",
       "      <th>room_type_Private room</th>\n",
       "      <th>income</th>\n",
       "      <th>price</th>\n",
       "    </tr>\n",
       "  </thead>\n",
       "  <tbody>\n",
       "    <tr>\n",
       "      <th>1367</th>\n",
       "      <td>0</td>\n",
       "      <td>2</td>\n",
       "      <td>1.0</td>\n",
       "      <td>1.0</td>\n",
       "      <td>1.0</td>\n",
       "      <td>17</td>\n",
       "      <td>1</td>\n",
       "      <td>0</td>\n",
       "      <td>0</td>\n",
       "      <td>1</td>\n",
       "      <td>0</td>\n",
       "      <td>0</td>\n",
       "      <td>1</td>\n",
       "      <td>0</td>\n",
       "      <td>0</td>\n",
       "      <td>31406</td>\n",
       "      <td>120.0</td>\n",
       "    </tr>\n",
       "    <tr>\n",
       "      <th>30778</th>\n",
       "      <td>0</td>\n",
       "      <td>3</td>\n",
       "      <td>2.0</td>\n",
       "      <td>2.0</td>\n",
       "      <td>1.0</td>\n",
       "      <td>15</td>\n",
       "      <td>0</td>\n",
       "      <td>1</td>\n",
       "      <td>0</td>\n",
       "      <td>0</td>\n",
       "      <td>1</td>\n",
       "      <td>0</td>\n",
       "      <td>1</td>\n",
       "      <td>0</td>\n",
       "      <td>0</td>\n",
       "      <td>50985</td>\n",
       "      <td>225.0</td>\n",
       "    </tr>\n",
       "    <tr>\n",
       "      <th>31920</th>\n",
       "      <td>0</td>\n",
       "      <td>3</td>\n",
       "      <td>1.0</td>\n",
       "      <td>1.0</td>\n",
       "      <td>1.0</td>\n",
       "      <td>27</td>\n",
       "      <td>0</td>\n",
       "      <td>1</td>\n",
       "      <td>0</td>\n",
       "      <td>0</td>\n",
       "      <td>1</td>\n",
       "      <td>0</td>\n",
       "      <td>1</td>\n",
       "      <td>0</td>\n",
       "      <td>0</td>\n",
       "      <td>50985</td>\n",
       "      <td>210.0</td>\n",
       "    </tr>\n",
       "    <tr>\n",
       "      <th>27541</th>\n",
       "      <td>0</td>\n",
       "      <td>3</td>\n",
       "      <td>1.0</td>\n",
       "      <td>1.0</td>\n",
       "      <td>1.0</td>\n",
       "      <td>34</td>\n",
       "      <td>1</td>\n",
       "      <td>1</td>\n",
       "      <td>1</td>\n",
       "      <td>0</td>\n",
       "      <td>0</td>\n",
       "      <td>0</td>\n",
       "      <td>1</td>\n",
       "      <td>0</td>\n",
       "      <td>0</td>\n",
       "      <td>22232</td>\n",
       "      <td>124.0</td>\n",
       "    </tr>\n",
       "    <tr>\n",
       "      <th>12073</th>\n",
       "      <td>0</td>\n",
       "      <td>2</td>\n",
       "      <td>1.0</td>\n",
       "      <td>1.0</td>\n",
       "      <td>1.0</td>\n",
       "      <td>20</td>\n",
       "      <td>19</td>\n",
       "      <td>0</td>\n",
       "      <td>0</td>\n",
       "      <td>1</td>\n",
       "      <td>0</td>\n",
       "      <td>0</td>\n",
       "      <td>0</td>\n",
       "      <td>0</td>\n",
       "      <td>1</td>\n",
       "      <td>31406</td>\n",
       "      <td>69.0</td>\n",
       "    </tr>\n",
       "  </tbody>\n",
       "</table>\n",
       "</div>"
      ],
      "text/plain": [
       "       host_is_superhost  accommodates  bedrooms  bathrooms_number  beds  \\\n",
       "1367                   0             2       1.0               1.0   1.0   \n",
       "30778                  0             3       2.0               2.0   1.0   \n",
       "31920                  0             3       1.0               1.0   1.0   \n",
       "27541                  0             3       1.0               1.0   1.0   \n",
       "12073                  0             2       1.0               1.0   1.0   \n",
       "\n",
       "       num_amenities  number_of_reviews  instant_bookable  \\\n",
       "1367              17                  1                 0   \n",
       "30778             15                  0                 1   \n",
       "31920             27                  0                 1   \n",
       "27541             34                  1                 1   \n",
       "12073             20                 19                 0   \n",
       "\n",
       "       neighbourhood_group_Bronx  neighbourhood_group_Brooklyn  \\\n",
       "1367                           0                             1   \n",
       "30778                          0                             0   \n",
       "31920                          0                             0   \n",
       "27541                          1                             0   \n",
       "12073                          0                             1   \n",
       "\n",
       "       neighbourhood_group_Manhattan  neighbourhood_group_Queens  \\\n",
       "1367                               0                           0   \n",
       "30778                              1                           0   \n",
       "31920                              1                           0   \n",
       "27541                              0                           0   \n",
       "12073                              0                           0   \n",
       "\n",
       "       room_type_Entire home/apt  room_type_Hotel room  \\\n",
       "1367                           1                     0   \n",
       "30778                          1                     0   \n",
       "31920                          1                     0   \n",
       "27541                          1                     0   \n",
       "12073                          0                     0   \n",
       "\n",
       "       room_type_Private room  income  price  \n",
       "1367                        0   31406  120.0  \n",
       "30778                       0   50985  225.0  \n",
       "31920                       0   50985  210.0  \n",
       "27541                       0   22232  124.0  \n",
       "12073                       1   31406   69.0  "
      ]
     },
     "execution_count": 48,
     "metadata": {},
     "output_type": "execute_result"
    }
   ],
   "source": [
    "X_train.head()"
   ]
  },
  {
   "cell_type": "code",
   "execution_count": 49,
   "metadata": {},
   "outputs": [
    {
     "name": "stderr",
     "output_type": "stream",
     "text": [
      "C:\\Users\\tnsub\\ANACONDA\\lib\\site-packages\\pandas\\core\\indexing.py:1736: SettingWithCopyWarning: \n",
      "A value is trying to be set on a copy of a slice from a DataFrame.\n",
      "Try using .loc[row_indexer,col_indexer] = value instead\n",
      "\n",
      "See the caveats in the documentation: https://pandas.pydata.org/pandas-docs/stable/user_guide/indexing.html#returning-a-view-versus-a-copy\n",
      "  isetter(loc, value[:, i].tolist())\n",
      "C:\\Users\\tnsub\\ANACONDA\\lib\\site-packages\\pandas\\core\\indexing.py:1736: SettingWithCopyWarning: \n",
      "A value is trying to be set on a copy of a slice from a DataFrame.\n",
      "Try using .loc[row_indexer,col_indexer] = value instead\n",
      "\n",
      "See the caveats in the documentation: https://pandas.pydata.org/pandas-docs/stable/user_guide/indexing.html#returning-a-view-versus-a-copy\n",
      "  isetter(loc, value[:, i].tolist())\n"
     ]
    }
   ],
   "source": [
    "# Standardising numeric feautures\n",
    "\n",
    "from sklearn.preprocessing import StandardScaler\n",
    "scaler = StandardScaler()\n",
    "X_train.iloc[:, 1:7] = scaler.fit_transform(X_train.iloc[:, 1:7])\n",
    "X_test.iloc[:, 1:7] = scaler.transform(X_test.iloc[:, 1:7])"
   ]
  },
  {
   "cell_type": "code",
   "execution_count": 50,
   "metadata": {},
   "outputs": [
    {
     "data": {
      "text/html": [
       "<div>\n",
       "<style scoped>\n",
       "    .dataframe tbody tr th:only-of-type {\n",
       "        vertical-align: middle;\n",
       "    }\n",
       "\n",
       "    .dataframe tbody tr th {\n",
       "        vertical-align: top;\n",
       "    }\n",
       "\n",
       "    .dataframe thead th {\n",
       "        text-align: right;\n",
       "    }\n",
       "</style>\n",
       "<table border=\"1\" class=\"dataframe\">\n",
       "  <thead>\n",
       "    <tr style=\"text-align: right;\">\n",
       "      <th></th>\n",
       "      <th>host_is_superhost</th>\n",
       "      <th>accommodates</th>\n",
       "      <th>bedrooms</th>\n",
       "      <th>bathrooms_number</th>\n",
       "      <th>beds</th>\n",
       "      <th>num_amenities</th>\n",
       "      <th>number_of_reviews</th>\n",
       "      <th>instant_bookable</th>\n",
       "      <th>neighbourhood_group_Bronx</th>\n",
       "      <th>neighbourhood_group_Brooklyn</th>\n",
       "      <th>neighbourhood_group_Manhattan</th>\n",
       "      <th>neighbourhood_group_Queens</th>\n",
       "      <th>room_type_Entire home/apt</th>\n",
       "      <th>room_type_Hotel room</th>\n",
       "      <th>room_type_Private room</th>\n",
       "      <th>income</th>\n",
       "      <th>price</th>\n",
       "    </tr>\n",
       "  </thead>\n",
       "  <tbody>\n",
       "    <tr>\n",
       "      <th>11191</th>\n",
       "      <td>1</td>\n",
       "      <td>-0.425540</td>\n",
       "      <td>-0.232745</td>\n",
       "      <td>-0.348645</td>\n",
       "      <td>-0.474956</td>\n",
       "      <td>0.014963</td>\n",
       "      <td>1.213281</td>\n",
       "      <td>1</td>\n",
       "      <td>0</td>\n",
       "      <td>0</td>\n",
       "      <td>0</td>\n",
       "      <td>1</td>\n",
       "      <td>0</td>\n",
       "      <td>0</td>\n",
       "      <td>1</td>\n",
       "      <td>31992</td>\n",
       "      <td>55.0</td>\n",
       "    </tr>\n",
       "    <tr>\n",
       "      <th>12643</th>\n",
       "      <td>1</td>\n",
       "      <td>0.691296</td>\n",
       "      <td>1.090220</td>\n",
       "      <td>-0.348645</td>\n",
       "      <td>1.371645</td>\n",
       "      <td>0.950609</td>\n",
       "      <td>1.588203</td>\n",
       "      <td>0</td>\n",
       "      <td>0</td>\n",
       "      <td>0</td>\n",
       "      <td>1</td>\n",
       "      <td>0</td>\n",
       "      <td>1</td>\n",
       "      <td>0</td>\n",
       "      <td>0</td>\n",
       "      <td>50985</td>\n",
       "      <td>150.0</td>\n",
       "    </tr>\n",
       "    <tr>\n",
       "      <th>12877</th>\n",
       "      <td>0</td>\n",
       "      <td>-0.425540</td>\n",
       "      <td>-1.555711</td>\n",
       "      <td>-0.348645</td>\n",
       "      <td>-0.474956</td>\n",
       "      <td>0.430806</td>\n",
       "      <td>0.442610</td>\n",
       "      <td>0</td>\n",
       "      <td>0</td>\n",
       "      <td>0</td>\n",
       "      <td>1</td>\n",
       "      <td>0</td>\n",
       "      <td>1</td>\n",
       "      <td>0</td>\n",
       "      <td>0</td>\n",
       "      <td>50985</td>\n",
       "      <td>85.0</td>\n",
       "    </tr>\n",
       "    <tr>\n",
       "      <th>13245</th>\n",
       "      <td>0</td>\n",
       "      <td>-0.425540</td>\n",
       "      <td>-0.232745</td>\n",
       "      <td>1.928109</td>\n",
       "      <td>-0.474956</td>\n",
       "      <td>-1.024644</td>\n",
       "      <td>-0.473865</td>\n",
       "      <td>1</td>\n",
       "      <td>0</td>\n",
       "      <td>1</td>\n",
       "      <td>0</td>\n",
       "      <td>0</td>\n",
       "      <td>0</td>\n",
       "      <td>0</td>\n",
       "      <td>1</td>\n",
       "      <td>31406</td>\n",
       "      <td>65.0</td>\n",
       "    </tr>\n",
       "    <tr>\n",
       "      <th>30516</th>\n",
       "      <td>0</td>\n",
       "      <td>-0.983958</td>\n",
       "      <td>-0.232745</td>\n",
       "      <td>-0.348645</td>\n",
       "      <td>-0.474956</td>\n",
       "      <td>-0.192959</td>\n",
       "      <td>-0.473865</td>\n",
       "      <td>0</td>\n",
       "      <td>0</td>\n",
       "      <td>0</td>\n",
       "      <td>1</td>\n",
       "      <td>0</td>\n",
       "      <td>1</td>\n",
       "      <td>0</td>\n",
       "      <td>0</td>\n",
       "      <td>50985</td>\n",
       "      <td>107.0</td>\n",
       "    </tr>\n",
       "  </tbody>\n",
       "</table>\n",
       "</div>"
      ],
      "text/plain": [
       "       host_is_superhost  accommodates  bedrooms  bathrooms_number      beds  \\\n",
       "11191                  1     -0.425540 -0.232745         -0.348645 -0.474956   \n",
       "12643                  1      0.691296  1.090220         -0.348645  1.371645   \n",
       "12877                  0     -0.425540 -1.555711         -0.348645 -0.474956   \n",
       "13245                  0     -0.425540 -0.232745          1.928109 -0.474956   \n",
       "30516                  0     -0.983958 -0.232745         -0.348645 -0.474956   \n",
       "\n",
       "       num_amenities  number_of_reviews  instant_bookable  \\\n",
       "11191       0.014963           1.213281                 1   \n",
       "12643       0.950609           1.588203                 0   \n",
       "12877       0.430806           0.442610                 0   \n",
       "13245      -1.024644          -0.473865                 1   \n",
       "30516      -0.192959          -0.473865                 0   \n",
       "\n",
       "       neighbourhood_group_Bronx  neighbourhood_group_Brooklyn  \\\n",
       "11191                          0                             0   \n",
       "12643                          0                             0   \n",
       "12877                          0                             0   \n",
       "13245                          0                             1   \n",
       "30516                          0                             0   \n",
       "\n",
       "       neighbourhood_group_Manhattan  neighbourhood_group_Queens  \\\n",
       "11191                              0                           1   \n",
       "12643                              1                           0   \n",
       "12877                              1                           0   \n",
       "13245                              0                           0   \n",
       "30516                              1                           0   \n",
       "\n",
       "       room_type_Entire home/apt  room_type_Hotel room  \\\n",
       "11191                          0                     0   \n",
       "12643                          1                     0   \n",
       "12877                          1                     0   \n",
       "13245                          0                     0   \n",
       "30516                          1                     0   \n",
       "\n",
       "       room_type_Private room  income  price  \n",
       "11191                       1   31992   55.0  \n",
       "12643                       0   50985  150.0  \n",
       "12877                       0   50985   85.0  \n",
       "13245                       1   31406   65.0  \n",
       "30516                       0   50985  107.0  "
      ]
     },
     "execution_count": 50,
     "metadata": {},
     "output_type": "execute_result"
    }
   ],
   "source": [
    "X_test.head()"
   ]
  },
  {
   "cell_type": "code",
   "execution_count": 51,
   "metadata": {},
   "outputs": [
    {
     "data": {
      "text/html": [
       "<div>\n",
       "<style scoped>\n",
       "    .dataframe tbody tr th:only-of-type {\n",
       "        vertical-align: middle;\n",
       "    }\n",
       "\n",
       "    .dataframe tbody tr th {\n",
       "        vertical-align: top;\n",
       "    }\n",
       "\n",
       "    .dataframe thead th {\n",
       "        text-align: right;\n",
       "    }\n",
       "</style>\n",
       "<table border=\"1\" class=\"dataframe\">\n",
       "  <thead>\n",
       "    <tr style=\"text-align: right;\">\n",
       "      <th></th>\n",
       "      <th>host_is_superhost</th>\n",
       "      <th>accommodates</th>\n",
       "      <th>bedrooms</th>\n",
       "      <th>bathrooms_number</th>\n",
       "      <th>beds</th>\n",
       "      <th>num_amenities</th>\n",
       "      <th>number_of_reviews</th>\n",
       "      <th>instant_bookable</th>\n",
       "      <th>neighbourhood_group_Bronx</th>\n",
       "      <th>neighbourhood_group_Brooklyn</th>\n",
       "      <th>neighbourhood_group_Manhattan</th>\n",
       "      <th>neighbourhood_group_Queens</th>\n",
       "      <th>room_type_Entire home/apt</th>\n",
       "      <th>room_type_Hotel room</th>\n",
       "      <th>room_type_Private room</th>\n",
       "      <th>income</th>\n",
       "      <th>price</th>\n",
       "    </tr>\n",
       "  </thead>\n",
       "  <tbody>\n",
       "    <tr>\n",
       "      <th>1367</th>\n",
       "      <td>0</td>\n",
       "      <td>-0.425540</td>\n",
       "      <td>-0.232745</td>\n",
       "      <td>-0.348645</td>\n",
       "      <td>-0.474956</td>\n",
       "      <td>-0.400880</td>\n",
       "      <td>-0.453036</td>\n",
       "      <td>0</td>\n",
       "      <td>0</td>\n",
       "      <td>1</td>\n",
       "      <td>0</td>\n",
       "      <td>0</td>\n",
       "      <td>1</td>\n",
       "      <td>0</td>\n",
       "      <td>0</td>\n",
       "      <td>31406</td>\n",
       "      <td>120.0</td>\n",
       "    </tr>\n",
       "    <tr>\n",
       "      <th>30778</th>\n",
       "      <td>0</td>\n",
       "      <td>0.132878</td>\n",
       "      <td>1.090220</td>\n",
       "      <td>1.928109</td>\n",
       "      <td>-0.474956</td>\n",
       "      <td>-0.608801</td>\n",
       "      <td>-0.473865</td>\n",
       "      <td>1</td>\n",
       "      <td>0</td>\n",
       "      <td>0</td>\n",
       "      <td>1</td>\n",
       "      <td>0</td>\n",
       "      <td>1</td>\n",
       "      <td>0</td>\n",
       "      <td>0</td>\n",
       "      <td>50985</td>\n",
       "      <td>225.0</td>\n",
       "    </tr>\n",
       "    <tr>\n",
       "      <th>31920</th>\n",
       "      <td>0</td>\n",
       "      <td>0.132878</td>\n",
       "      <td>-0.232745</td>\n",
       "      <td>-0.348645</td>\n",
       "      <td>-0.474956</td>\n",
       "      <td>0.638727</td>\n",
       "      <td>-0.473865</td>\n",
       "      <td>1</td>\n",
       "      <td>0</td>\n",
       "      <td>0</td>\n",
       "      <td>1</td>\n",
       "      <td>0</td>\n",
       "      <td>1</td>\n",
       "      <td>0</td>\n",
       "      <td>0</td>\n",
       "      <td>50985</td>\n",
       "      <td>210.0</td>\n",
       "    </tr>\n",
       "    <tr>\n",
       "      <th>27541</th>\n",
       "      <td>0</td>\n",
       "      <td>0.132878</td>\n",
       "      <td>-0.232745</td>\n",
       "      <td>-0.348645</td>\n",
       "      <td>-0.474956</td>\n",
       "      <td>1.366452</td>\n",
       "      <td>-0.453036</td>\n",
       "      <td>1</td>\n",
       "      <td>1</td>\n",
       "      <td>0</td>\n",
       "      <td>0</td>\n",
       "      <td>0</td>\n",
       "      <td>1</td>\n",
       "      <td>0</td>\n",
       "      <td>0</td>\n",
       "      <td>22232</td>\n",
       "      <td>124.0</td>\n",
       "    </tr>\n",
       "    <tr>\n",
       "      <th>12073</th>\n",
       "      <td>0</td>\n",
       "      <td>-0.425540</td>\n",
       "      <td>-0.232745</td>\n",
       "      <td>-0.348645</td>\n",
       "      <td>-0.474956</td>\n",
       "      <td>-0.088998</td>\n",
       "      <td>-0.078115</td>\n",
       "      <td>0</td>\n",
       "      <td>0</td>\n",
       "      <td>1</td>\n",
       "      <td>0</td>\n",
       "      <td>0</td>\n",
       "      <td>0</td>\n",
       "      <td>0</td>\n",
       "      <td>1</td>\n",
       "      <td>31406</td>\n",
       "      <td>69.0</td>\n",
       "    </tr>\n",
       "  </tbody>\n",
       "</table>\n",
       "</div>"
      ],
      "text/plain": [
       "       host_is_superhost  accommodates  bedrooms  bathrooms_number      beds  \\\n",
       "1367                   0     -0.425540 -0.232745         -0.348645 -0.474956   \n",
       "30778                  0      0.132878  1.090220          1.928109 -0.474956   \n",
       "31920                  0      0.132878 -0.232745         -0.348645 -0.474956   \n",
       "27541                  0      0.132878 -0.232745         -0.348645 -0.474956   \n",
       "12073                  0     -0.425540 -0.232745         -0.348645 -0.474956   \n",
       "\n",
       "       num_amenities  number_of_reviews  instant_bookable  \\\n",
       "1367       -0.400880          -0.453036                 0   \n",
       "30778      -0.608801          -0.473865                 1   \n",
       "31920       0.638727          -0.473865                 1   \n",
       "27541       1.366452          -0.453036                 1   \n",
       "12073      -0.088998          -0.078115                 0   \n",
       "\n",
       "       neighbourhood_group_Bronx  neighbourhood_group_Brooklyn  \\\n",
       "1367                           0                             1   \n",
       "30778                          0                             0   \n",
       "31920                          0                             0   \n",
       "27541                          1                             0   \n",
       "12073                          0                             1   \n",
       "\n",
       "       neighbourhood_group_Manhattan  neighbourhood_group_Queens  \\\n",
       "1367                               0                           0   \n",
       "30778                              1                           0   \n",
       "31920                              1                           0   \n",
       "27541                              0                           0   \n",
       "12073                              0                           0   \n",
       "\n",
       "       room_type_Entire home/apt  room_type_Hotel room  \\\n",
       "1367                           1                     0   \n",
       "30778                          1                     0   \n",
       "31920                          1                     0   \n",
       "27541                          1                     0   \n",
       "12073                          0                     0   \n",
       "\n",
       "       room_type_Private room  income  price  \n",
       "1367                        0   31406  120.0  \n",
       "30778                       0   50985  225.0  \n",
       "31920                       0   50985  210.0  \n",
       "27541                       0   22232  124.0  \n",
       "12073                       1   31406   69.0  "
      ]
     },
     "execution_count": 51,
     "metadata": {},
     "output_type": "execute_result"
    }
   ],
   "source": [
    "X_train.head()"
   ]
  },
  {
   "cell_type": "code",
   "execution_count": 53,
   "metadata": {},
   "outputs": [],
   "source": [
    "# Saving file for modeling \n",
    "# save the cleaned data to new csv file\n",
    "abnb_6.to_csv(r'C:\\Users\\tnsub\\Google Drive\\SPRINGBOARD DSC\\ABNB_Project\\Notebooks\\abnb_6_ForModeling.csv')"
   ]
  },
  {
   "cell_type": "code",
   "execution_count": null,
   "metadata": {},
   "outputs": [],
   "source": []
  }
 ],
 "metadata": {
  "kernelspec": {
   "display_name": "Python 3",
   "language": "python",
   "name": "python3"
  },
  "language_info": {
   "codemirror_mode": {
    "name": "ipython",
    "version": 3
   },
   "file_extension": ".py",
   "mimetype": "text/x-python",
   "name": "python",
   "nbconvert_exporter": "python",
   "pygments_lexer": "ipython3",
   "version": "3.8.5"
  }
 },
 "nbformat": 4,
 "nbformat_minor": 4
}
